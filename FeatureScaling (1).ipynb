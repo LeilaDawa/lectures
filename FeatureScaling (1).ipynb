{
 "cells": [
  {
   "cell_type": "markdown",
   "metadata": {},
   "source": [
    "# Feature Scaling\n",
    "\n",
    "In this notebook, we will use the [Pima Diabetes Dataset](https://www.kaggle.com/uciml/pima-indians-diabetes-database) from the UCI Machine Learning Database to learn how to scale feature data. Scaling means to change the range of values for the data so that features (columns) that have vastly different numerical ranges can be more easily compared. We will look at 2 types of scaling - z-score standardization and Min-max scaling."
   ]
  },
  {
   "cell_type": "code",
   "execution_count": null,
   "metadata": {},
   "outputs": [],
   "source": [
    "import pandas as pd\n",
    "\n",
    "#preprocessing functions will be used to standardize/normalize data\n",
    "from sklearn import preprocessing\n",
    "from sklearn.preprocessing import StandardScaler\n",
    "from sklearn.preprocessing import MinMaxScaler\n",
    "\n",
    "%matplotlib inline"
   ]
  },
  {
   "cell_type": "code",
   "execution_count": null,
   "metadata": {},
   "outputs": [],
   "source": [
    "filepath = \"diabetes.csv\"\n",
    "\n",
    "pima_df = pd.read_csv(filepath)\n",
    "pima_df.head()"
   ]
  },
  {
   "cell_type": "code",
   "execution_count": null,
   "metadata": {},
   "outputs": [],
   "source": [
    "#check if any missing values in the data\n",
    "pima_df.count()"
   ]
  },
  {
   "cell_type": "code",
   "execution_count": null,
   "metadata": {},
   "outputs": [],
   "source": [
    "#descriptive statistics\n",
    "pima_df.describe()"
   ]
  },
  {
   "cell_type": "code",
   "execution_count": null,
   "metadata": {},
   "outputs": [],
   "source": [
    "#plot the frequency count for each column\n",
    "pima_df.hist(figsize=(10,10))"
   ]
  },
  {
   "cell_type": "markdown",
   "metadata": {},
   "source": [
    "We can see from the descriptive statistics and the frequency distribution plots that each feature (column) has varying ranges. Features such as Insulin have a high maximum value but other features like DiabetesPedigreeFunction have low maximum values."
   ]
  },
  {
   "cell_type": "code",
   "execution_count": null,
   "metadata": {},
   "outputs": [],
   "source": [
    "#plot frequency count data but using the same scale (minimum and maximum value out of all columns)\n",
    "pima_df.hist(figsize=(10,10), sharex=True)"
   ]
  },
  {
   "cell_type": "markdown",
   "metadata": {},
   "source": [
    "**Scaling will help to find any drastic effects that occur in the data when comparing multiple features. If we try to see any effects when putting the features on the same scale in the default data, as in the above charts, smaller values cannot be seen.**"
   ]
  },
  {
   "cell_type": "markdown",
   "metadata": {},
   "source": [
    "### Z-score Standardization\n",
    "\n",
    "Z-score standardization is the process of converting the data to have a mean of 0 and a standard deviation of 1. The z-score is calculcated by subtracting the mean for a feature (column) by each data point value and dividing by the standard deviation.\n",
    "### \\begin{align}  z = \\frac{(value - mean)}{std dev} \\end{align}"
   ]
  },
  {
   "cell_type": "code",
   "execution_count": null,
   "metadata": {},
   "outputs": [],
   "source": [
    "#first 5 rows of the 'Glucose' column\n",
    "pima_df['Glucose'].head()"
   ]
  },
  {
   "cell_type": "code",
   "execution_count": null,
   "metadata": {},
   "outputs": [],
   "source": [
    "#Method 1: manual calculation of z-scores for 'Glucose' column\n",
    "\n",
    "#mean for the column\n",
    "mean = pima_df['Glucose'].mean()\n",
    "\n",
    "#standard deviation of the column\n",
    "std = pima_df['Glucose'].std()\n",
    "\n",
    "#each value in column minus the mean and then divide by the standard deviation\n",
    "glucose_z_manual = (pima_df['Glucose'] - mean)/std"
   ]
  },
  {
   "cell_type": "code",
   "execution_count": null,
   "metadata": {},
   "outputs": [],
   "source": [
    "#values for mean and standard deviation of 'Glucose column'\n",
    "mean, std"
   ]
  },
  {
   "cell_type": "code",
   "execution_count": null,
   "metadata": {
    "scrolled": true
   },
   "outputs": [],
   "source": [
    "glucose_z_manual.mean(), glucose_z_manual.std()"
   ]
  },
  {
   "cell_type": "code",
   "execution_count": null,
   "metadata": {
    "scrolled": true
   },
   "outputs": [],
   "source": [
    "#first 5 rows of z-score standardized 'Glucose' column\n",
    "glucose_z_manual.head()"
   ]
  },
  {
   "cell_type": "code",
   "execution_count": 16,
   "metadata": {},
   "outputs": [
    {
     "data": {
      "text/html": [
       "<div>\n",
       "<style scoped>\n",
       "    .dataframe tbody tr th:only-of-type {\n",
       "        vertical-align: middle;\n",
       "    }\n",
       "\n",
       "    .dataframe tbody tr th {\n",
       "        vertical-align: top;\n",
       "    }\n",
       "\n",
       "    .dataframe thead th {\n",
       "        text-align: right;\n",
       "    }\n",
       "</style>\n",
       "<table border=\"1\" class=\"dataframe\">\n",
       "  <thead>\n",
       "    <tr style=\"text-align: right;\">\n",
       "      <th></th>\n",
       "      <th>Glucose</th>\n",
       "    </tr>\n",
       "  </thead>\n",
       "  <tbody>\n",
       "    <tr>\n",
       "      <th>0</th>\n",
       "      <td>148</td>\n",
       "    </tr>\n",
       "    <tr>\n",
       "      <th>1</th>\n",
       "      <td>85</td>\n",
       "    </tr>\n",
       "    <tr>\n",
       "      <th>2</th>\n",
       "      <td>183</td>\n",
       "    </tr>\n",
       "    <tr>\n",
       "      <th>3</th>\n",
       "      <td>89</td>\n",
       "    </tr>\n",
       "    <tr>\n",
       "      <th>4</th>\n",
       "      <td>137</td>\n",
       "    </tr>\n",
       "  </tbody>\n",
       "</table>\n",
       "</div>"
      ],
      "text/plain": [
       "   Glucose\n",
       "0      148\n",
       "1       85\n",
       "2      183\n",
       "3       89\n",
       "4      137"
      ]
     },
     "execution_count": 16,
     "metadata": {},
     "output_type": "execute_result"
    }
   ],
   "source": [
    "pima_df[['Glucose']].head()"
   ]
  },
  {
   "cell_type": "code",
   "execution_count": 17,
   "metadata": {},
   "outputs": [],
   "source": [
    "#Method 2: use scikit-learn to calculate z-scores\n",
    "\n",
    "#set StandardScale function to a variable (easier to type)\n",
    "#scaler will use z-score formula on the column\n",
    "scaler = StandardScaler()\n",
    "\n",
    "#fit_transform calculates the mean and std, and replaces any missing values w/ mean if needed\n",
    "#'Glucose' is in double set of square brackets in order to make it a dataframe\n",
    "glucose_zscore = scaler.fit_transform(pima_df[['Glucose']])"
   ]
  },
  {
   "cell_type": "code",
   "execution_count": 18,
   "metadata": {
    "scrolled": true
   },
   "outputs": [
    {
     "data": {
      "text/plain": [
       "(-9.25185853854297e-18, 1.0)"
      ]
     },
     "execution_count": 18,
     "metadata": {},
     "output_type": "execute_result"
    }
   ],
   "source": [
    "#mean and standard deviation of z-score standardized 'Glucose' column\n",
    "glucose_zscore.mean(), glucose_zscore.std()"
   ]
  },
  {
   "cell_type": "code",
   "execution_count": 19,
   "metadata": {},
   "outputs": [
    {
     "data": {
      "text/plain": [
       "array([[ 0.84832379],\n",
       "       [-1.12339636],\n",
       "       [ 1.94372388],\n",
       "       [-0.99820778],\n",
       "       [ 0.5040552 ]])"
      ]
     },
     "execution_count": 19,
     "metadata": {},
     "output_type": "execute_result"
    }
   ],
   "source": [
    "glucose_zscore[:5]"
   ]
  },
  {
   "cell_type": "code",
   "execution_count": 20,
   "metadata": {},
   "outputs": [],
   "source": [
    "#because fit_transform made an array, we have to change it back into a Series type (pandas dataframe column)\n",
    "glu_z_col = pd.Series(glucose_zscore.reshape(-1))"
   ]
  },
  {
   "cell_type": "code",
   "execution_count": 21,
   "metadata": {
    "scrolled": false
   },
   "outputs": [
    {
     "data": {
      "text/plain": [
       "0    0.848324\n",
       "1   -1.123396\n",
       "2    1.943724\n",
       "3   -0.998208\n",
       "4    0.504055\n",
       "dtype: float64"
      ]
     },
     "execution_count": 21,
     "metadata": {},
     "output_type": "execute_result"
    }
   ],
   "source": [
    "#first 5 rows of z-score standardized glucose column\n",
    "glu_z_col.head()"
   ]
  },
  {
   "cell_type": "code",
   "execution_count": null,
   "metadata": {},
   "outputs": [],
   "source": [
    "pima_df[z_glucose]="
   ]
  },
  {
   "cell_type": "code",
   "execution_count": 22,
   "metadata": {},
   "outputs": [
    {
     "data": {
      "text/plain": [
       "<matplotlib.axes._subplots.AxesSubplot at 0x293625a07c8>"
      ]
     },
     "execution_count": 22,
     "metadata": {},
     "output_type": "execute_result"
    },
    {
     "data": {
      "image/png": "[encoded data removed]",
      "text/plain": [
       "<Figure size 432x288 with 1 Axes>"
      ]
     },
     "metadata": {
      "needs_background": "light"
     },
     "output_type": "display_data"
    }
   ],
   "source": [
    "#BEFORE: frequency count plot of 'Glucose' column\n",
    "pima_df['Glucose'].hist()"
   ]
  },
  {
   "cell_type": "code",
   "execution_count": 23,
   "metadata": {},
   "outputs": [
    {
     "data": {
      "text/plain": [
       "<matplotlib.axes._subplots.AxesSubplot at 0x293626eaa48>"
      ]
     },
     "execution_count": 23,
     "metadata": {},
     "output_type": "execute_result"
    },
    {
     "data": {
      "image/png": "[encoded data removed]",
      "text/plain": [
       "<Figure size 432x288 with 1 Axes>"
      ]
     },
     "metadata": {
      "needs_background": "light"
     },
     "output_type": "display_data"
    }
   ],
   "source": [
    "#AFTER: frequency count plot of 'Glucose' column (z-score standardization)\n",
    "#range is much smaller\n",
    "glu_z_col.hist()"
   ]
  },
  {
   "cell_type": "code",
   "execution_count": 24,
   "metadata": {},
   "outputs": [
    {
     "data": {
      "text/plain": [
       "array([[<matplotlib.axes._subplots.AxesSubplot object at 0x0000029362756288>,\n",
       "        <matplotlib.axes._subplots.AxesSubplot object at 0x00000293629DF2C8>,\n",
       "        <matplotlib.axes._subplots.AxesSubplot object at 0x000002936274FC08>],\n",
       "       [<matplotlib.axes._subplots.AxesSubplot object at 0x0000029362A44908>,\n",
       "        <matplotlib.axes._subplots.AxesSubplot object at 0x0000029362A7A508>,\n",
       "        <matplotlib.axes._subplots.AxesSubplot object at 0x0000029362AB2808>],\n",
       "       [<matplotlib.axes._subplots.AxesSubplot object at 0x0000029362AE97C8>,\n",
       "        <matplotlib.axes._subplots.AxesSubplot object at 0x0000029362B237C8>,\n",
       "        <matplotlib.axes._subplots.AxesSubplot object at 0x0000029362B2F348>]],\n",
       "      dtype=object)"
      ]
     },
     "execution_count": 24,
     "metadata": {},
     "output_type": "execute_result"
    },
    {
     "data": {
      "image/png": "[encoded data removed]",
      "text/plain": [
       "<Figure size 720x720 with 9 Axes>"
      ]
     },
     "metadata": {
      "needs_background": "light"
     },
     "output_type": "display_data"
    }
   ],
   "source": [
    "#show z-score standardization for all columns\n",
    "\n",
    "#list to hold column names\n",
    "colnames = list(pima_df.columns)\n",
    "\n",
    "#calculate z-scores\n",
    "zscore_df = pd.DataFrame(scaler.fit_transform(pima_df), columns = colnames)\n",
    "\n",
    "#plot frequency distribution with same scale range\n",
    "zscore_df.hist(figsize=(10,10), sharex=True)"
   ]
  },
  {
   "cell_type": "markdown",
   "metadata": {},
   "source": [
    "### Min-max Scaling\n",
    "Max-min scaling transforms the data into a range from 0 to 1. The new minimum value of the column will always be 0 and the new maximum value of the column will always be 1. The values in between are calculated by using the original value and subtracting the column's minimum value, then dividing by the maximum value of the column minus the minimum value.\n",
    "\n",
    "### \\begin{align}  m = \\frac{(value - min)}{max - min} \\end{align}"
   ]
  },
  {
   "cell_type": "code",
   "execution_count": 25,
   "metadata": {},
   "outputs": [],
   "source": [
    "#MinMaxScaler function will calculate the formula\n",
    "minmax_sc = MinMaxScaler()"
   ]
  },
  {
   "cell_type": "code",
   "execution_count": 26,
   "metadata": {},
   "outputs": [],
   "source": [
    "#use MinMaxScaler function and fit_transform function on the 'Glucose' column\n",
    "glucose_minmax = minmax_sc.fit_transform(pima_df[['Glucose']])"
   ]
  },
  {
   "cell_type": "code",
   "execution_count": 27,
   "metadata": {},
   "outputs": [
    {
     "data": {
      "text/plain": [
       "(0.6075102072864321, 0.16056178848343078)"
      ]
     },
     "execution_count": 27,
     "metadata": {},
     "output_type": "execute_result"
    }
   ],
   "source": [
    "#mean and standard deviation of Min-Max 'Glucose' column\n",
    "glucose_minmax.mean(), glucose_minmax.std()"
   ]
  },
  {
   "cell_type": "code",
   "execution_count": 28,
   "metadata": {},
   "outputs": [
    {
     "data": {
      "text/plain": [
       "0    0.743719\n",
       "1    0.427136\n",
       "2    0.919598\n",
       "3    0.447236\n",
       "4    0.688442\n",
       "dtype: float64"
      ]
     },
     "execution_count": 28,
     "metadata": {},
     "output_type": "execute_result"
    }
   ],
   "source": [
    "#convert array into a dataframe column\n",
    "#look at first 5 rows of min-max values\n",
    "glu_mm_col = pd.Series(glucose_minmax.reshape(-1))\n",
    "glu_mm_col.head()"
   ]
  },
  {
   "cell_type": "code",
   "execution_count": 29,
   "metadata": {},
   "outputs": [
    {
     "data": {
      "text/plain": [
       "(0.0, 1.0)"
      ]
     },
     "execution_count": 29,
     "metadata": {},
     "output_type": "execute_result"
    }
   ],
   "source": [
    "#verify the range is between 0 and 1\n",
    "glu_mm_col.min(), glu_mm_col.max()"
   ]
  },
  {
   "cell_type": "code",
   "execution_count": 30,
   "metadata": {},
   "outputs": [
    {
     "data": {
      "text/plain": [
       "<matplotlib.axes._subplots.AxesSubplot at 0x29362c9a708>"
      ]
     },
     "execution_count": 30,
     "metadata": {},
     "output_type": "execute_result"
    },
    {
     "data": {
      "image/png": "[encoded data removed]",
      "text/plain": [
       "<Figure size 432x288 with 1 Axes>"
      ]
     },
     "metadata": {
      "needs_background": "light"
     },
     "output_type": "display_data"
    }
   ],
   "source": [
    "glu_mm_col.hist()"
   ]
  },
  {
   "cell_type": "code",
   "execution_count": 31,
   "metadata": {},
   "outputs": [
    {
     "data": {
      "text/plain": [
       "array([[<matplotlib.axes._subplots.AxesSubplot object at 0x0000029362D904C8>,\n",
       "        <matplotlib.axes._subplots.AxesSubplot object at 0x0000029362DC3D88>,\n",
       "        <matplotlib.axes._subplots.AxesSubplot object at 0x0000029363047F08>],\n",
       "       [<matplotlib.axes._subplots.AxesSubplot object at 0x0000029362E2F488>,\n",
       "        <matplotlib.axes._subplots.AxesSubplot object at 0x0000029362E67448>,\n",
       "        <matplotlib.axes._subplots.AxesSubplot object at 0x0000029362EA0408>],\n",
       "       [<matplotlib.axes._subplots.AxesSubplot object at 0x0000029362ED93C8>,\n",
       "        <matplotlib.axes._subplots.AxesSubplot object at 0x0000029362F13388>,\n",
       "        <matplotlib.axes._subplots.AxesSubplot object at 0x0000029362F17EC8>]],\n",
       "      dtype=object)"
      ]
     },
     "execution_count": 31,
     "metadata": {},
     "output_type": "execute_result"
    },
    {
     "data": {
      "image/png": "[encoded data removed]",
      "text/plain": [
       "<Figure size 720x720 with 9 Axes>"
      ]
     },
     "metadata": {
      "needs_background": "light"
     },
     "output_type": "display_data"
    }
   ],
   "source": [
    "#show min-max scaling for all columns\n",
    "\n",
    "#calculate z-scores\n",
    "minmax_df = pd.DataFrame(minmax_sc.fit_transform(pima_df), columns = colnames)\n",
    "\n",
    "#plot frequency distribution with same scale range\n",
    "minmax_df.hist(figsize=(10,10), sharex=True)"
   ]
  },
  {
   "cell_type": "markdown",
   "metadata": {},
   "source": [
    "### Tips for Predictive Models\n",
    "\n",
    "- Z-score standardization is most useful for regression models, such as linear regression and logistic regression\n",
    "- Min-Max scaling is more relevant for algorithms that calculate distances between data points, such as K-Nearest Neighbors and K-Means Clustering"
   ]
  }
 ],
 "metadata": {
  "kernelspec": {
   "display_name": "Python 3",
   "language": "python",
   "name": "python3"
  },
  "language_info": {
   "codemirror_mode": {
    "name": "ipython",
    "version": 3
   },
   "file_extension": ".py",
   "mimetype": "text/x-python",
   "name": "python",
   "nbconvert_exporter": "python",
   "pygments_lexer": "ipython3",
   "version": "3.7.6"
  }
 },
 "nbformat": 4,
 "nbformat_minor": 2
}
